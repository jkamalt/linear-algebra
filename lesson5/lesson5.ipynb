{
 "cells": [
  {
   "cell_type": "code",
   "execution_count": 1,
   "id": "4c43b694",
   "metadata": {},
   "outputs": [],
   "source": [
    "import numpy as np\n",
    "np.set_printoptions(precision=2, suppress=True)"
   ]
  },
  {
   "cell_type": "markdown",
   "id": "c8c81125",
   "metadata": {},
   "source": [
    "# Сингулярное разложение матриц <a class='anchor' id='svd'>"
   ]
  },
  {
   "cell_type": "markdown",
   "id": "23ce6cf8",
   "metadata": {},
   "source": [
    "### Задание 1 <a class='anchor' id='svd_1'>\n",
    "\n",
    "*Найдите посредством NumPy SVD для матрицы:*\n",
    "\n",
    "$$\\begin{pmatrix}\n",
    "1 & 2 & 0 \\\\ \n",
    "0 & 0 & 5 \\\\ \n",
    "3 & -4 & 2 \\\\ \n",
    "1 & 6 & 5 \\\\ \n",
    "0 & 1 & 0\n",
    "\\end{pmatrix}.$$"
   ]
  },
  {
   "cell_type": "code",
   "execution_count": 2,
   "id": "e83e775b",
   "metadata": {},
   "outputs": [
    {
     "name": "stdout",
     "output_type": "stream",
     "text": [
      "Матрица A =\n",
      "[[ 1  2  0]\n",
      " [ 0  0  5]\n",
      " [ 3 -4  2]\n",
      " [ 1  6  5]\n",
      " [ 0  1  0]]\n",
      "\n",
      "Матрица U =\n",
      "[[ 0.17  0.16 -0.53 -0.8  -0.16]\n",
      " [ 0.39 -0.53  0.61 -0.43  0.03]\n",
      " [-0.14 -0.82 -0.52  0.14  0.07]\n",
      " [ 0.89  0.06 -0.25  0.38 -0.06]\n",
      " [ 0.08  0.11 -0.08 -0.11  0.98]]\n",
      "\n",
      "Матрица D =\n",
      "[[8.82 0.   0.  ]\n",
      " [0.   6.14 0.  ]\n",
      " [0.   0.   2.53]\n",
      " [0.   0.   0.  ]\n",
      " [0.   0.   0.  ]]\n",
      "\n",
      "Матрица V =\n",
      "[[ 0.07 -0.37 -0.93]\n",
      " [ 0.72  0.67 -0.21]\n",
      " [ 0.69 -0.65  0.31]]\n",
      "\n",
      "UDV^T =\n",
      "[[ 1.  2.  0.]\n",
      " [ 0. -0.  5.]\n",
      " [ 3. -4.  2.]\n",
      " [ 1.  6.  5.]\n",
      " [-0.  1. -0.]]\n",
      "\n",
      "Сингулярные числа =\n",
      "[8.82 6.14 2.53]\n"
     ]
    }
   ],
   "source": [
    "A = np.array([[1, 2, 0], [0, 0, 5], [3, -4, 2], [1, 6, 5], [0, 1, 0]])\n",
    "U, s, W = np.linalg.svd(A)\n",
    "\n",
    "V = W.T\n",
    "\n",
    "D = np.zeros_like(A, dtype=float)\n",
    "D[np.diag_indices(min(A.shape))] = s\n",
    "\n",
    "print(f'Матрица A =\\n{A}\\n')\n",
    "print(f'Матрица U =\\n{U}\\n')\n",
    "print(f'Матрица D =\\n{D}\\n')\n",
    "print(f'Матрица V =\\n{V}\\n')\n",
    "\n",
    "print(f'UDV^T =\\n{U @ D @ V.T}\\n')\n",
    "\n",
    "print(f'Сингулярные числа =\\n{s}')"
   ]
  },
  {
   "cell_type": "markdown",
   "id": "32fb0178",
   "metadata": {},
   "source": [
    "### Задание 2 <a class='anchor' id='svd_2'>\n",
    "\n",
    "*Для матрицы из предыдущего задания найдите:*\n",
    "\n",
    "*а) евклидову норму;*\n",
    "    \n",
    "*б) норму Фробениуса.*"
   ]
  },
  {
   "cell_type": "markdown",
   "id": "73dc9fdb",
   "metadata": {},
   "source": [
    "Если для матрицы известно сингулярное разложение, то для вычисления евклидовой нормы и нормы Фробениуса можно использовать сингулярные числа. Для матрицы из предыдущего задания они равны\n",
    "\n",
    "$$\\mu_1 = 8.82,$$\n",
    "\n",
    "$$\\mu_2 = 6.14,$$\n",
    "\n",
    "$$\\mu_3 = 2.53.$$\n",
    "\n",
    "а) евклидову норму\n",
    "\n",
    "Евклидова норма равна максимальному сингулярному числу, т.е\n",
    "\n",
    "$$\\left \\| A \\right \\|_E = \\mu_1 = 8.82.$$\n",
    "\n",
    "**Ответ: 8.82.**\n",
    "\n",
    "б) норму Фробениуса\n",
    "\n",
    "Норма Фробениуса через сингулярные числа вычисляется как\n",
    "\n",
    "$$\\left \\| A \\right \\|_F = \\sqrt{\\sum_{k = 1}^r \\mu_k^2} = 11.04.$$\n",
    "\n",
    "**Ответ: 11.04.**"
   ]
  },
  {
   "cell_type": "code",
   "execution_count": 3,
   "id": "06b34f0e",
   "metadata": {},
   "outputs": [
    {
     "name": "stdout",
     "output_type": "stream",
     "text": [
      "Евклидова норма = 8.824868854820444\n",
      "Норма Фробениуса = 11.045361017187263\n",
      "\n",
      "Евклидова норма numpy = 8.824868854820444\n",
      "Норма Фробениуса numpy = 11.045361017187261\n"
     ]
    }
   ],
   "source": [
    "# Через сингулярные числа\n",
    "print(f'Евклидова норма = {np.max(s)}')\n",
    "print(f'Норма Фробениуса = {np.linalg.norm(s)}\\n')\n",
    "\n",
    "# Проверка\n",
    "print(f'Евклидова норма numpy = {np.linalg.norm(A, ord=2)}')\n",
    "print(f\"Норма Фробениуса numpy = {np.linalg.norm(A, ord='fro')}\")"
   ]
  }
 ],
 "metadata": {
  "kernelspec": {
   "display_name": "Python 3 (ipykernel)",
   "language": "python",
   "name": "python3"
  },
  "language_info": {
   "codemirror_mode": {
    "name": "ipython",
    "version": 3
   },
   "file_extension": ".py",
   "mimetype": "text/x-python",
   "name": "python",
   "nbconvert_exporter": "python",
   "pygments_lexer": "ipython3",
   "version": "3.10.0"
  }
 },
 "nbformat": 4,
 "nbformat_minor": 5
}
